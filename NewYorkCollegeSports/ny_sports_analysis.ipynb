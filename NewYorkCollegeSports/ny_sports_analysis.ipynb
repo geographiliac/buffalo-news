{
 "cells": [
  {
   "cell_type": "code",
   "execution_count": 3,
   "metadata": {
    "collapsed": true
   },
   "outputs": [],
   "source": [
    "import agate"
   ]
  },
  {
   "cell_type": "code",
   "execution_count": 4,
   "metadata": {
    "collapsed": false
   },
   "outputs": [],
   "source": [
    "sports = agate.Table.from_csv('raw_college_sports_budgets.csv')"
   ]
  },
  {
   "cell_type": "code",
   "execution_count": 5,
   "metadata": {
    "collapsed": false
   },
   "outputs": [
    {
     "name": "stdout",
     "output_type": "stream",
     "text": [
      "|---------------------+------------|\n",
      "|  column             | data_type  |\n",
      "|---------------------+------------|\n",
      "|  College            | Text       |\n",
      "|  Sport              | Text       |\n",
      "|  City               | Text       |\n",
      "|  Classification     | Text       |\n",
      "|  Male enrollment    | Number     |\n",
      "|  Female enrollment  | Number     |\n",
      "|  Total enrollment   | Number     |\n",
      "|  Type               | Text       |\n",
      "|  Gender             | Text       |\n",
      "|  PARTIC_MEN         | Number     |\n",
      "|  PARTIC_WOMEN       | Number     |\n",
      "|  OPEXPPERPART_MEN   | Number     |\n",
      "|  OPEXPPERTEAM_MEN   | Number     |\n",
      "|  OPEXPPERPART_WOMEN | Number     |\n",
      "|  OPEXPPERTEAM_WOMEN | Number     |\n",
      "|  REV_MEN            | Number     |\n",
      "|  REV_WOMEN          | Number     |\n",
      "|  EXP_MEN            | Number     |\n",
      "|  EXP_WOMEN          | Number     |\n",
      "|---------------------+------------|\n",
      "\n"
     ]
    }
   ],
   "source": [
    "print(sports)"
   ]
  },
  {
   "cell_type": "code",
   "execution_count": 50,
   "metadata": {
    "collapsed": false
   },
   "outputs": [],
   "source": [
    "sports_totals = sports.group_by('Sport')\n",
    "mens_totals = sports.where(lambda row: row['PARTIC_MEN'] != None)\n",
    "mens_sports = mens_totals.group_by('Sport')\n",
    "womens_totals = sports.where(lambda row: row['PARTIC_WOMEN'] != None)\n",
    "womens_sports = womens_totals.group_by('Sport')"
   ]
  },
  {
   "cell_type": "code",
   "execution_count": 51,
   "metadata": {
    "collapsed": false
   },
   "outputs": [
    {
     "name": "stdout",
     "output_type": "stream",
     "text": [
      "|---------------------+-------|\n",
      "|  table              | rows  |\n",
      "|---------------------+-------|\n",
      "|  All Track Combined | 79    |\n",
      "|  Archery            | 1     |\n",
      "|  Baseball           | 113   |\n",
      "|  Basketball         | 279   |\n",
      "|  Bowling            | 26    |\n",
      "|  Diving             | 2     |\n",
      "|  Equestrian         | 11    |\n",
      "|  Fencing            | 16    |\n",
      "|  Field Hockey       | 35    |\n",
      "|  Football           | 35    |\n",
      "|  Golf               | 108   |\n",
      "|  Gymnastics         | 4     |\n",
      "|  Ice Hockey         | 49    |\n",
      "|  Lacrosse           | 162   |\n",
      "|  Other Sports       | 10    |\n",
      "|  Rowing             | 36    |\n",
      "|  Sailing            | 1     |\n",
      "|  Skiing             | 8     |\n",
      "|  Soccer             | 260   |\n",
      "|  Softball           | 113   |\n",
      "|---------------------+-------|\n",
      "\n",
      "|----------------------+-------|\n",
      "|  table               | rows  |\n",
      "|----------------------+-------|\n",
      "|  All Track Combined  | 39    |\n",
      "|  Baseball            | 113   |\n",
      "|  Basketball          | 142   |\n",
      "|  Bowling             | 11    |\n",
      "|  Diving              | 1     |\n",
      "|  Equestrian          | 1     |\n",
      "|  Fencing             | 6     |\n",
      "|  Football            | 35    |\n",
      "|  Golf                | 75    |\n",
      "|  Ice Hockey          | 30    |\n",
      "|  Lacrosse            | 78    |\n",
      "|  Other Sports        | 5     |\n",
      "|  Rowing              | 14    |\n",
      "|  Skiing              | 4     |\n",
      "|  Soccer              | 136   |\n",
      "|  Squash              | 9     |\n",
      "|  Swimming            | 22    |\n",
      "|  Swimming and Diving | 45    |\n",
      "|  Table Tennis        | 1     |\n",
      "|  Tennis              | 77    |\n",
      "|----------------------+-------|\n",
      "\n",
      "|---------------------+-------|\n",
      "|  table              | rows  |\n",
      "|---------------------+-------|\n",
      "|  All Track Combined | 40    |\n",
      "|  Archery            | 1     |\n",
      "|  Basketball         | 137   |\n",
      "|  Bowling            | 15    |\n",
      "|  Diving             | 1     |\n",
      "|  Equestrian         | 10    |\n",
      "|  Fencing            | 10    |\n",
      "|  Field Hockey       | 35    |\n",
      "|  Golf               | 33    |\n",
      "|  Gymnastics         | 4     |\n",
      "|  Ice Hockey         | 19    |\n",
      "|  Lacrosse           | 84    |\n",
      "|  Other Sports       | 5     |\n",
      "|  Rowing             | 22    |\n",
      "|  Sailing            | 1     |\n",
      "|  Skiing             | 4     |\n",
      "|  Soccer             | 124   |\n",
      "|  Softball           | 113   |\n",
      "|  Squash             | 6     |\n",
      "|  Swimming           | 27    |\n",
      "|---------------------+-------|\n",
      "\n"
     ]
    }
   ],
   "source": [
    "print(sports_totals)\n",
    "print(mens_sports)\n",
    "print(womens_sports)"
   ]
  },
  {
   "cell_type": "code",
   "execution_count": 24,
   "metadata": {
    "collapsed": false
   },
   "outputs": [],
   "source": [
    "classy_totals = sports.group_by('Classification')"
   ]
  },
  {
   "cell_type": "code",
   "execution_count": 25,
   "metadata": {
    "collapsed": false
   },
   "outputs": [
    {
     "name": "stdout",
     "output_type": "stream",
     "text": [
      "|---------------------------------------+-------|\n",
      "|  table                                | rows  |\n",
      "|---------------------------------------+-------|\n",
      "|  NCAA Division I-A                    | 49    |\n",
      "|  NCAA Division I-AA                   | 165   |\n",
      "|  NCAA Division I-AAA                  | 162   |\n",
      "|  NCAA Division III (without football) | 627   |\n",
      "|  NCAA Division III (with football)    | 356   |\n",
      "|  NCAA Division II (with football)     | 31    |\n",
      "|  Other                                | 136   |\n",
      "|  NCAA Division II (without football)  | 207   |\n",
      "|  NAIA Division III                    | 37    |\n",
      "|  NJCAA Division III                   | 345   |\n",
      "|  NJCAA Division I                     | 17    |\n",
      "|  NJCAA Division II                    | 13    |\n",
      "|---------------------------------------+-------|\n",
      "\n"
     ]
    }
   ],
   "source": [
    "print(classy_totals)"
   ]
  },
  {
   "cell_type": "code",
   "execution_count": 26,
   "metadata": {
    "collapsed": false
   },
   "outputs": [],
   "source": [
    "college_totals = sports.group_by('College')"
   ]
  },
  {
   "cell_type": "code",
   "execution_count": 27,
   "metadata": {
    "collapsed": false
   },
   "outputs": [
    {
     "name": "stdout",
     "output_type": "stream",
     "text": [
      "|----------------------------------------------+-------|\n",
      "|  table                                       | rows  |\n",
      "|----------------------------------------------+-------|\n",
      "|  Syracuse University                         | 16    |\n",
      "|  Cornell University                          | 31    |\n",
      "|  Iona College                                | 16    |\n",
      "|  Manhattan College                           | 15    |\n",
      "|  Fordham University                          | 18    |\n",
      "|  University at Buffalo                       | 16    |\n",
      "|  Columbia University in the City of New York | 27    |\n",
      "|  SUNY at Binghamton                          | 17    |\n",
      "|  Wagner College                              | 16    |\n",
      "|  New York University                         | 19    |\n",
      "|  Stony Brook University                      | 14    |\n",
      "|  Marist College                              | 19    |\n",
      "|  Ithaca College                              | 23    |\n",
      "|  LIU Post                                    | 18    |\n",
      "|  St Francis College                          | 15    |\n",
      "|  Colgate University                          | 21    |\n",
      "|  Rensselaer Polytechnic Institute            | 19    |\n",
      "|  University of Rochester                     | 19    |\n",
      "|  Utica College                               | 21    |\n",
      "|  Canisius College                            | 16    |\n",
      "|----------------------------------------------+-------|\n",
      "\n"
     ]
    }
   ],
   "source": [
    "print(college_totals)"
   ]
  },
  {
   "cell_type": "code",
   "execution_count": 9,
   "metadata": {
    "collapsed": false
   },
   "outputs": [],
   "source": [
    "syrause_sports = sports.where(lambda row: row['College'] == 'Syracuse University')"
   ]
  },
  {
   "cell_type": "code",
   "execution_count": 12,
   "metadata": {
    "collapsed": false
   },
   "outputs": [
    {
     "name": "stdout",
     "output_type": "stream",
     "text": [
      "|---------------------+-------|\n",
      "|  table              | rows  |\n",
      "|---------------------+-------|\n",
      "|  All Track Combined | 2     |\n",
      "|  Basketball         | 2     |\n",
      "|  Field Hockey       | 1     |\n",
      "|  Football           | 1     |\n",
      "|  Ice Hockey         | 1     |\n",
      "|  Lacrosse           | 2     |\n",
      "|  Rowing             | 2     |\n",
      "|  Soccer             | 2     |\n",
      "|  Softball           | 1     |\n",
      "|  Tennis             | 1     |\n",
      "|  Volleyball         | 1     |\n",
      "|---------------------+-------|\n",
      "\n"
     ]
    }
   ],
   "source": [
    "syrause_teams = syrause_sports.group_by('Sport')\n",
    "print(syrause_teams)"
   ]
  },
  {
   "cell_type": "code",
   "execution_count": null,
   "metadata": {
    "collapsed": true
   },
   "outputs": [],
   "source": []
  }
 ],
 "metadata": {
  "kernelspec": {
   "display_name": "Python 3",
   "language": "python",
   "name": "python3"
  },
  "language_info": {
   "codemirror_mode": {
    "name": "ipython",
    "version": 3
   },
   "file_extension": ".py",
   "mimetype": "text/x-python",
   "name": "python",
   "nbconvert_exporter": "python",
   "pygments_lexer": "ipython3",
   "version": "3.5.1"
  }
 },
 "nbformat": 4,
 "nbformat_minor": 0
}
