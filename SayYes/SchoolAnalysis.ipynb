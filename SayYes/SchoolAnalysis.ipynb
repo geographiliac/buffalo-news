{
 "cells": [
  {
   "cell_type": "code",
   "execution_count": 2,
   "metadata": {
    "collapsed": true
   },
   "outputs": [],
   "source": [
    "import agate"
   ]
  },
  {
   "cell_type": "markdown",
   "metadata": {},
   "source": [
    "Pull in Say Yes schools enrollment data csv"
   ]
  },
  {
   "cell_type": "code",
   "execution_count": 3,
   "metadata": {
    "collapsed": true
   },
   "outputs": [],
   "source": [
    "schools = agate.Table.from_csv('bpssayyes.csv')"
   ]
  },
  {
   "cell_type": "markdown",
   "metadata": {},
   "source": [
    "The output shows which columns were in the spreadsheet and what column type agate thinks that column is"
   ]
  },
  {
   "cell_type": "code",
   "execution_count": 4,
   "metadata": {
    "collapsed": false
   },
   "outputs": [
    {
     "name": "stdout",
     "output_type": "stream",
     "text": [
      "|--------------------------+---------------|\n",
      "|  column_names            | column_types  |\n",
      "|--------------------------+---------------|\n",
      "|  High School             | Text          |\n",
      "|  2010 Total in Class     | Number        |\n",
      "|  2010 Total Enrolled     | Number        |\n",
      "|  2010 Total in Public    | Number        |\n",
      "|  2010 Total in Private   | Number        |\n",
      "|  2010 Total in 4-Year    | Number        |\n",
      "|  2010 Total in 2-Year    | Number        |\n",
      "|  2010 Total in-State     | Number        |\n",
      "|  2010 Total Out-of-State | Number        |\n",
      "|  2011 Total in Class     | Number        |\n",
      "|  2011 Total Enrolled     | Number        |\n",
      "|  2011 Total in Public    | Number        |\n",
      "|  2011 Total in Private   | Number        |\n",
      "|  2011 Total in 4-Year    | Number        |\n",
      "|  2011 Total in 2-Year    | Number        |\n",
      "|  2011 Total in-State     | Number        |\n",
      "|  2011 Total Out-of-State | Number        |\n",
      "|  2012 Total in Class     | Number        |\n",
      "|  2012 Total Enrolled     | Number        |\n",
      "|  2012 Total in Public    | Number        |\n",
      "|  2012 Total in Private   | Number        |\n",
      "|  2012 Total in 4-Year    | Number        |\n",
      "|  2012 Total in 2-Year    | Number        |\n",
      "|  2012 Total in-State     | Number        |\n",
      "|  2012 Total Out-of-State | Number        |\n",
      "|  2013 Total in Class     | Number        |\n",
      "|  2013 Total Enrolled     | Number        |\n",
      "|  2013 Total in Public    | Number        |\n",
      "|  2013 Total in Private   | Number        |\n",
      "|  2013 Total in 4-Year    | Number        |\n",
      "|  2013 Total in 2-Year    | Number        |\n",
      "|  2013 Total in-State     | Number        |\n",
      "|  2013 Total Out-of-State | Number        |\n",
      "|  2014 Total in Class     | Number        |\n",
      "|  2014 Total Enrolled     | Number        |\n",
      "|  2014 Total in Public    | Number        |\n",
      "|  2014 Total in Private   | Number        |\n",
      "|  2014 Total in 4-Year    | Number        |\n",
      "|  2014 Total in 2-Year    | Number        |\n",
      "|  2014 Total in-State     | Number        |\n",
      "|  2014 Total Out-of-State | Number        |\n",
      "|  2015 Total in Class     | Number        |\n",
      "|  2015 Total Enrolled     | Number        |\n",
      "|  2015 Total in Public    | Number        |\n",
      "|  2015 Total in Private   | Number        |\n",
      "|  2015 Total in 4-Year    | Number        |\n",
      "|  2015 Total in 2-Year    | Number        |\n",
      "|  2015 Total in-State     | Number        |\n",
      "|  2015 Total Out-of-State | Number        |\n",
      "|--------------------------+---------------|\n",
      "\n"
     ]
    }
   ],
   "source": [
    "print(schools)"
   ]
  },
  {
   "cell_type": "markdown",
   "metadata": {},
   "source": [
    "This section calculates the college enrollment percent for each year. Due to missing year's data for some schools, first the function checks to see if there is data and simply returns 0 if not. That 0 value is filtered out by the chart. These enrollment percents are also saved to a csv for the chart."
   ]
  },
  {
   "cell_type": "code",
   "execution_count": 19,
   "metadata": {
    "collapsed": false
   },
   "outputs": [],
   "source": [
    "number_type = agate.Number()\n",
    "def enrollPercent10(row):\n",
    "    if row['2010 Total Enrolled'] != None:\n",
    "        return row['2010 Total Enrolled'] / row['2010 Total in Class']\n",
    "    else:\n",
    "        return 0\n",
    "def enrollPercent11(row):\n",
    "    if row['2011 Total Enrolled'] != None:\n",
    "        return row['2011 Total Enrolled'] / row['2011 Total in Class']\n",
    "    else:\n",
    "        return 0\n",
    "def enrollPercent12(row):\n",
    "    if row['2012 Total Enrolled'] != None:\n",
    "        return row['2012 Total Enrolled'] / row['2012 Total in Class']\n",
    "    else:\n",
    "        return 0\n",
    "def enrollPercent13(row):\n",
    "    if row['2013 Total Enrolled'] != None:\n",
    "        return row['2013 Total Enrolled'] / row['2013 Total in Class']\n",
    "    else:\n",
    "        return 0\n",
    "def enrollPercent14(row):\n",
    "    if row['2014 Total Enrolled'] != None:\n",
    "        return row['2014 Total Enrolled'] / row['2014 Total in Class']\n",
    "    else:\n",
    "        return 0\n",
    "def enrollPercent15(row):\n",
    "    if row['2015 Total Enrolled'] != None:\n",
    "        return row['2015 Total Enrolled'] / row['2015 Total in Class']\n",
    "    else:\n",
    "        return 0\n",
    "enrollmentPercent = schools.compute([\n",
    "        ('enrollment_percent10', agate.Formula(number_type, enrollPercent10)),\n",
    "        ('enrollment_percent11', agate.Formula(number_type, enrollPercent11)),\n",
    "        ('enrollment_percent12', agate.Formula(number_type, enrollPercent12)),\n",
    "        ('enrollment_percent13', agate.Formula(number_type, enrollPercent13)),\n",
    "        ('enrollment_percent14', agate.Formula(number_type, enrollPercent14)),\n",
    "        ('enrollment_percent15', agate.Formula(number_type, enrollPercent15))\n",
    "    ]).select(['High School', 'enrollment_percent10', 'enrollment_percent11', 'enrollment_percent12', 'enrollment_percent13', 'enrollment_percent14', 'enrollment_percent15'])\n",
    "enrollmentPercent.to_csv('school_enrollment.csv')"
   ]
  },
  {
   "cell_type": "code",
   "execution_count": 18,
   "metadata": {
    "collapsed": false
   },
   "outputs": [
    {
     "name": "stdout",
     "output_type": "stream",
     "text": [
      "|--------------------+----------------------+----------------------+-----------------------|\n",
      "|  High School       |         pc_total1015 | enrollment_percent10 | enrollment_percent15  |\n",
      "|--------------------+----------------------+----------------------+-----------------------|\n",
      "|  Bennett           | 28.10245310245310... | 0.470149253731343... | 0.602272727272727...  |\n",
      "|  Burgard           | 67.36842105263157... | 0.333333333333333... | 0.557894736842105...  |\n",
      "|  City Honors       | 9.203296703296703... | 0.858490566037735... | 0.937500000000000...  |\n",
      "|  Leonardo da Vinci | 6.753812636165577... | 0.771428571428571... | 0.823529411764705...  |\n",
      "|  East              | 11.57937806873977... | 0.465346534653465... | 0.519230769230769...  |\n",
      "|  Emerson           | 9.722222222222222... | 0.531645569620253... | 0.583333333333333...  |\n",
      "|  Hutch Tech        | 15.43705101987310... | 0.684873949579831... | 0.790598290598290...  |\n",
      "|  Lafayette         | 22.28260869565217... | 0.393162393162393... | 0.480769230769230...  |\n",
      "|  McKinley          | 16.08829218341108... | 0.525139664804469... | 0.609625668449197...  |\n",
      "|  Middle Early      | -12.1399176954732... | 0.885245901639344... | 0.777777777777777...  |\n",
      "|  MST               | 0.894454382826475... | 0.553191489361702... | 0.558139534883720...  |\n",
      "|  Riverside         | 100.1489203276247... | 0.354166666666666... | 0.708860759493670...  |\n",
      "|  South Park        | 17.85246617197730... | 0.386666666666666... | 0.455696202531645...  |\n",
      "|--------------------+----------------------+----------------------+-----------------------|\n"
     ]
    }
   ],
   "source": [
    "total_year_schools = enrollmentPercent.where(lambda row: row['enrollment_percent10'] != 0 and row['enrollment_percent15'] != 0)\n",
    "percent_changes = total_year_schools.compute([\n",
    "        ('pc_total1015', agate.PercentChange('enrollment_percent10', 'enrollment_percent15'))\n",
    "    ]).select(['High School', 'pc_total1015', 'enrollment_percent10', 'enrollment_percent15'])\n",
    "percent_changes.print_table()"
   ]
  },
  {
   "cell_type": "markdown",
   "metadata": {},
   "source": [
    "This section finds the district average by summing all of the schools' class sizes and number enrolled for each year."
   ]
  },
  {
   "cell_type": "code",
   "execution_count": 15,
   "metadata": {
    "collapsed": false
   },
   "outputs": [
    {
     "name": "stdout",
     "output_type": "stream",
     "text": [
      "0.5566944266495836002562459962\n",
      "0.6222808174027686222808174028\n",
      "0.5740740740740740740740740741\n",
      "0.6854005167958656330749354005\n",
      "0.6579104477611940298507462687\n",
      "0.6713286713286713286713286713\n"
     ]
    }
   ],
   "source": [
    "total_class10 = schools.aggregate(agate.Sum('2010 Total in Class'))\n",
    "total_enrolled10 = schools.aggregate(agate.Sum('2010 Total Enrolled'))\n",
    "total_percent10 = total_enrolled10 / total_class10\n",
    "print(total_percent10)\n",
    "total_class11 = schools.aggregate(agate.Sum('2011 Total in Class'))\n",
    "total_enrolled11 = schools.aggregate(agate.Sum('2011 Total Enrolled'))\n",
    "total_percent11 = total_enrolled11 / total_class11\n",
    "print(total_percent11)\n",
    "total_class12 = schools.aggregate(agate.Sum('2012 Total in Class'))\n",
    "total_enrolled12 = schools.aggregate(agate.Sum('2012 Total Enrolled'))\n",
    "total_percent12 = total_enrolled12 / total_class12\n",
    "print(total_percent12)\n",
    "total_class13 = schools.aggregate(agate.Sum('2013 Total in Class'))\n",
    "total_enrolled13 = schools.aggregate(agate.Sum('2013 Total Enrolled'))\n",
    "total_percent13 = total_enrolled13 / total_class13\n",
    "print(total_percent13)\n",
    "total_class14 = schools.aggregate(agate.Sum('2014 Total in Class'))\n",
    "total_enrolled14 = schools.aggregate(agate.Sum('2014 Total Enrolled'))\n",
    "total_percent14 = total_enrolled14 / total_class14\n",
    "print(total_percent14)\n",
    "total_class15 = schools.aggregate(agate.Sum('2015 Total in Class'))\n",
    "total_enrolled15 = schools.aggregate(agate.Sum('2015 Total Enrolled'))\n",
    "total_percent15 = total_enrolled15 / total_class15\n",
    "print(total_percent15)"
   ]
  },
  {
   "cell_type": "code",
   "execution_count": null,
   "metadata": {
    "collapsed": true
   },
   "outputs": [],
   "source": []
  }
 ],
 "metadata": {
  "kernelspec": {
   "display_name": "Python 3",
   "language": "python",
   "name": "python3"
  },
  "language_info": {
   "codemirror_mode": {
    "name": "ipython",
    "version": 3
   },
   "file_extension": ".py",
   "mimetype": "text/x-python",
   "name": "python",
   "nbconvert_exporter": "python",
   "pygments_lexer": "ipython3",
   "version": "3.5.1"
  }
 },
 "nbformat": 4,
 "nbformat_minor": 0
}
